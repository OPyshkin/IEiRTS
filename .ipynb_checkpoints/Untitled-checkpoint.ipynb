{
 "cells": [
  {
   "cell_type": "code",
   "execution_count": 1,
   "metadata": {},
   "outputs": [
    {
     "data": {
      "text/plain": [
       "True"
      ]
     },
     "execution_count": 1,
     "metadata": {},
     "output_type": "execute_result"
    }
   ],
   "source": [
    "import numpy as np\n",
    "import cv2\n",
    "\n",
    "img0 = cv2.imread('kreml.jpg',cv2.IMREAD_GRAYSCALE)\n",
    "\n",
    "#создаем матрицу из нулей,при это на 2 больше по ширине и высоте\n",
    "temp_img = np.zeros((len(img0)+2, len(img0[0])+2))\n",
    "#заполняем ее изображение по центру,в итоге по краям получаем нули,что нужно для корректной работы фильтра\n",
    "for i in range(len(img0)):\n",
    "    for j in range(len(img0[i])):\n",
    "        temp_img[i+1][j+1] = img0[i][j]\n",
    "\n",
    "cv2.imwrite ( 'kreml_processed.jpg' , temp_img)"
   ]
  },
  {
   "cell_type": "code",
   "execution_count": null,
   "metadata": {
    "scrolled": true
   },
   "outputs": [],
   "source": [
    "import numpy as np\n",
    "import cv2\n",
    "\n",
    "img = cv2.imread('kreml_processed.jpg',cv2.IMREAD_GRAYSCALE)\n",
    "\n",
    "fin = np.zeros((len(img)-2, len(img[0])-2))#создаем матрицу,куда будет помещать тоговое изображение\n",
    "\n",
    "for i in range(1,len(img)-1):\n",
    "    for j in range(1,len(img[i])-1):\n",
    "        \n",
    "        #temp  = [[img[i-1][j-1] * -1 , img[i-1][j  ] * -2 , img[i-1][j+1] * -1],\n",
    "        #         [img[i  ][j-1] *  0 , img[i  ][j  ] *  0 , img[i  ][j+1] *  0],\n",
    "        #         [img[i+1][j-1] *  1 , img[i+1][j  ] *  2 , img[i+1][j+1] *  1]]\n",
    "        \n",
    "        temp  = [[img[i-1][j-1] * -1,img[i-1][j  ] *  0,img[i-1][j+1] *  1],\n",
    "                 [img[i  ][j-1] * -2,img[i  ][j  ] *  0,img[i  ][j+1] *  2],\n",
    "                 [img[i+1][j-1] * -1,img[i+1][j  ] *  0,img[i+1][j+1] *  1]]\n",
    "        #temp1 = np.dot(sobolx,temp)\n",
    "        #fin[i-1][j-1] = np.sqrt(np.sum(temp)^2+np.sum(temp1)^2)\n",
    "        fin[i-1][j-1] = np.sum(temp)\n",
    "cv2.imwrite ( 'final.jpg' , fin)\n",
    "cv2.imshow(\"Picter\",fin)\n",
    "cv2.waitKey(0)\n",
    "cv2.destroyAllWindows()\n",
    "#sosem chlen vkusno"
   ]
  },
  {
   "cell_type": "code",
   "execution_count": null,
   "metadata": {},
   "outputs": [],
   "source": []
  }
 ],
 "metadata": {
  "kernelspec": {
   "display_name": "Python 3",
   "language": "python",
   "name": "python3"
  },
  "language_info": {
   "codemirror_mode": {
    "name": "ipython",
    "version": 3
   },
   "file_extension": ".py",
   "mimetype": "text/x-python",
   "name": "python",
   "nbconvert_exporter": "python",
   "pygments_lexer": "ipython3",
   "version": "3.6.9"
  }
 },
 "nbformat": 4,
 "nbformat_minor": 2
}
