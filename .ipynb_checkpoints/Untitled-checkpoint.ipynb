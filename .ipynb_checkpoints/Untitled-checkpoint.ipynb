{
 "cells": [
  {
   "cell_type": "code",
   "execution_count": 1,
   "metadata": {},
   "outputs": [],
   "source": [
    "import numpy as np\n",
    "import cv2\n",
    "\n",
    "img = cv2.imread('kremlin.jpg',cv2.IMREAD_GRAYSCALE)\n",
    "\n",
    "fin = np.zeros((len(img)-2, len(img[0])-2))#создаем матрицу,куда будет помещать тоговое изображение\n",
    "\n",
    "for i in range(1,len(img)-1): #применяем собеля по х\n",
    "    for j in range(1,len(img[i])-1):\n",
    "        temp  = [[img[i-1][j-1] * -1,img[i-1][j  ] *  0,img[i-1][j+1] *  1],\n",
    "                 [img[i  ][j-1] * -2,img[i  ][j  ] *  0,img[i  ][j+1] *  2],\n",
    "                 [img[i+1][j-1] * -1,img[i+1][j  ] *  0,img[i+1][j+1] *  1]]\n",
    "        fin[i-1][j-1] = np.sum(temp)\n",
    "cv2.imwrite ( 'final.jpg' , fin)\n",
    "\n"
   ]
  },
  {
   "cell_type": "code",
   "execution_count": null,
   "metadata": {},
   "outputs": [],
   "source": []
  }
 ],
 "metadata": {
  "kernelspec": {
   "display_name": "Python 3",
   "language": "python",
   "name": "python3"
  },
  "language_info": {
   "codemirror_mode": {
    "name": "ipython",
    "version": 3
   },
   "file_extension": ".py",
   "mimetype": "text/x-python",
   "name": "python",
   "nbconvert_exporter": "python",
   "pygments_lexer": "ipython3",
   "version": "3.6.9"
  }
 },
 "nbformat": 4,
 "nbformat_minor": 2
}
