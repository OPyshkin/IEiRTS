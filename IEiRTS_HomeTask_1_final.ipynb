{
 "cells": [
  {
   "cell_type": "code",
   "execution_count": 6,
   "metadata": {},
   "outputs": [],
   "source": [
    "# Module for processing images with Sobel operator\n",
    "# Authors FeeLyX, OPyshkin, Esesna\n",
    "# Version 1.2\n",
    "\n",
    "import numpy as np\n",
    "import cv2\n",
    "\n",
    "# Opening image from file\n",
    "imginput = cv2.imread('Garceev.jpg', cv2.IMREAD_GRAYSCALE)\n",
    "\n",
    "# Initializing dimensions of picture\n",
    "y = len(imginput)\n",
    "x = len(imginput[0])\n",
    "\n",
    "# Expanding edges of picture with zeros\n",
    "imgext = np.zeros((y + 2, x + 2))\n",
    "for i in range(y):\n",
    "    for j in range(x):\n",
    "        imgext[i + 1][j + 1] = imginput[i][j]\n",
    "\n",
    "# Declaring arrays for processed picture\n",
    "imgsobelx = np.zeros((y, x))\n",
    "#imgsobely = np.zeros((y, x))\n",
    "#imgsobel = np.zeros((y, x))\n",
    "\n",
    "# Initializing X mask\n",
    "sobelx = [\n",
    "    [-1, 0, 1],\n",
    "    [-2, 0, 2],\n",
    "    [-1, 0, 1]\n",
    "    ]\n",
    "\n",
    "# Initializing Y mask\n",
    "#sobely = [\n",
    "#    [-1, -2, -1],\n",
    "#    [0, 0, 0],\n",
    "#    [1, 2, 1]\n",
    "#    ]\n",
    "\n",
    "# Processing image\n",
    "for i in range(y):\n",
    "    for j in range(x):\n",
    "        piece = np.zeros((3, 3))\n",
    "        for k in range(3):\n",
    "            for l in range(3):\n",
    "                piece[k][l] = imgext[i + k][j + l]\n",
    "        imgsobelx[i][j] = np.sum(piece * sobelx)\n",
    "        #imgsobely[i][j] = np.sum(piece * sobely)\n",
    "        #imgsobel[i][j] = np.sqrt(np.sum(piece * sobelx) ** 2 +\n",
    "        #                         np.sum(piece * sobely) ** 2)\n",
    "\n",
    "# Writing final pictures into files\n",
    "cv2.imwrite('sobelx.jpg', imgsobelx)\n",
    "#cv2.imwrite('sobely.jpg', imgsobely)\n",
    "#cv2.imwrite('sobel.jpg', imgsobel)\n",
    "\n",
    "# Waiting for any key pressed to exit \n",
    "cv2.waitKey(0)\n",
    "cv2.destroyAllWindows()"
   ]
  },
  {
   "cell_type": "code",
   "execution_count": null,
   "metadata": {},
   "outputs": [],
   "source": []
  }
 ],
 "metadata": {
  "kernelspec": {
   "display_name": "Python 3",
   "language": "python",
   "name": "python3"
  },
  "language_info": {
   "codemirror_mode": {
    "name": "ipython",
    "version": 3
   },
   "file_extension": ".py",
   "mimetype": "text/x-python",
   "name": "python",
   "nbconvert_exporter": "python",
   "pygments_lexer": "ipython3",
   "version": "3.6.9"
  }
 },
 "nbformat": 4,
 "nbformat_minor": 4
}
